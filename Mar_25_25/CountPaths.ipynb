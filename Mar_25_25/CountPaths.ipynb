{
 "cells": [
  {
   "cell_type": "code",
   "execution_count": null,
   "metadata": {},
   "outputs": [],
   "source": [
    "from heapq import *\n",
    "def countPaths(n, roads):\n",
    "    adj = [[] for _ in range(n)]\n",
    "\n",
    "    for src, dst, time in roads:\n",
    "        adj[src].append((dst,time))\n",
    "        adj[dst].append((src,time))\n",
    "\n",
    "    times = [float(\"inf\") for _ in range(n)]\n",
    "    paths = [0 for _ in range(n)]\n",
    "\n",
    "    MOD = 10**9 + 7\n",
    "\n",
    "    paths[0] = 1\n",
    "    times[0] = 0\n",
    "\n",
    "    min_heap = []\n",
    "    heapify(min_heap)\n",
    "\n",
    "    heappush(min_heap,(0, 0))\n",
    "\n",
    "    while min_heap:\n",
    "        curr_time, node = heappop(min_heap)\n",
    "\n",
    "        for neighbor, n_time in adj[node]:\n",
    "            new_time =  n_time + curr_time\n",
    "            if new_time < times[neighbor]:\n",
    "                times[neighbor] = new_time\n",
    "                paths[neighbor] = paths[node]\n",
    "                heappush(min_heap, (new_time, neighbor))\n",
    "            \n",
    "            elif new_time == times[neighbor]:\n",
    "                paths[neighbor] += paths[node]\n",
    "    \n",
    "    return paths[n-1] % MOD"
   ]
  }
 ],
 "metadata": {
  "language_info": {
   "name": "python"
  }
 },
 "nbformat": 4,
 "nbformat_minor": 2
}
