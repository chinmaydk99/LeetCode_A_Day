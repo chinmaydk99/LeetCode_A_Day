{
 "cells": [
  {
   "cell_type": "code",
   "execution_count": null,
   "metadata": {},
   "outputs": [
    {
     "ename": "NameError",
     "evalue": "name 'List' is not defined",
     "output_type": "error",
     "traceback": [
      "\u001b[31m---------------------------------------------------------------------------\u001b[39m",
      "\u001b[31mNameError\u001b[39m                                 Traceback (most recent call last)",
      "\u001b[36mCell\u001b[39m\u001b[36m \u001b[39m\u001b[32mIn[1]\u001b[39m\u001b[32m, line 1\u001b[39m\n\u001b[32m----> \u001b[39m\u001b[32m1\u001b[39m \u001b[38;5;28;01mdef\u001b[39;00m\u001b[38;5;250m \u001b[39m\u001b[34mfindTheCity\u001b[39m(\u001b[38;5;28mself\u001b[39m, n: \u001b[38;5;28mint\u001b[39m, edges: \u001b[43mList\u001b[49m[List[\u001b[38;5;28mint\u001b[39m]], distanceThreshold: \u001b[38;5;28mint\u001b[39m) -> \u001b[38;5;28mint\u001b[39m:\n\u001b[32m      2\u001b[39m     \u001b[38;5;66;03m# Create adjacency matrix\u001b[39;00m\n\u001b[32m      3\u001b[39m     \u001b[38;5;66;03m# Apply Floyd Warsall\u001b[39;00m\n\u001b[32m      4\u001b[39m     \u001b[38;5;66;03m# Traverse every row of the matrix and keep track of minimum neighbors and the element\u001b[39;00m\n\u001b[32m      6\u001b[39m     adj = [[\u001b[38;5;28mfloat\u001b[39m(\u001b[33m\"\u001b[39m\u001b[33minf\u001b[39m\u001b[33m\"\u001b[39m) \u001b[38;5;28;01mfor\u001b[39;00m _ \u001b[38;5;129;01min\u001b[39;00m \u001b[38;5;28mrange\u001b[39m(n)] \u001b[38;5;28;01mfor\u001b[39;00m _ \u001b[38;5;129;01min\u001b[39;00m \u001b[38;5;28mrange\u001b[39m(n)]\n\u001b[32m      8\u001b[39m     \u001b[38;5;28;01mfor\u001b[39;00m u,v, wt \u001b[38;5;129;01min\u001b[39;00m edges:\n",
      "\u001b[31mNameError\u001b[39m: name 'List' is not defined"
     ]
    }
   ],
   "source": [
    "\n",
    "def findTheCity(n, edges, distanceThreshold):\n",
    "    # Create adjacency matrix\n",
    "    # Apply Floyd Warsall\n",
    "    # Traverse every row of the matrix and keep track of minimum neighbors and the element\n",
    "\n",
    "    adj = [[float(\"inf\") for _ in range(n)] for _ in range(n)]\n",
    "\n",
    "    for u,v, wt in edges:\n",
    "        adj[u][v] = wt\n",
    "        adj[v][u] = wt\n",
    "\n",
    "    for via in range(n):\n",
    "        for i in range(n):\n",
    "            for j in range(n):\n",
    "                adj[i][j] = min(adj[i][j], adj[i][via] + adj[via][j])\n",
    "    \n",
    "    return adj\n",
    "    \n",
    "    # min_ele = n + 1\n",
    "    # min_neighbors =  n + 1\n",
    "\n",
    "    # for i in range(n):\n",
    "    #     curr = 0\n",
    "    #     for j in range(n):\n",
    "    #         if adj[i][j] < distanceThreshold:\n",
    "    #             curr += 1\n",
    "        \n",
    "    #     if curr < min_neighbors:\n",
    "    #         min_ele = i\n",
    "    #         min_neighbors = curr\n",
    "        \n",
    "    #     elif curr == min_neighbors:\n",
    "    #         min_ele = min(min_ele,i)\n",
    "    \n",
    "    # return min_ele\n",
    "\n",
    "        "
   ]
  },
  {
   "cell_type": "code",
   "execution_count": null,
   "metadata": {},
   "outputs": [],
   "source": []
  }
 ],
 "metadata": {
  "kernelspec": {
   "display_name": "Python 3",
   "language": "python",
   "name": "python3"
  },
  "language_info": {
   "codemirror_mode": {
    "name": "ipython",
    "version": 3
   },
   "file_extension": ".py",
   "mimetype": "text/x-python",
   "name": "python",
   "nbconvert_exporter": "python",
   "pygments_lexer": "ipython3",
   "version": "3.12.9"
  }
 },
 "nbformat": 4,
 "nbformat_minor": 2
}
