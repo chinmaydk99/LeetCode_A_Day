{
 "cells": [
  {
   "cell_type": "code",
   "execution_count": 1,
   "metadata": {},
   "outputs": [],
   "source": [
    "def bellmanFord(V, edges, src):\n",
    "    distances = [10**8 for _ in range(V)]\n",
    "    distances[src] = 0\n",
    "    \n",
    "    # Adjacency list not needed\n",
    "    # Edge relaxations V-1 times\n",
    "    \n",
    "    for i in range(V-1):\n",
    "        for src, dst, wt in edges:\n",
    "            if distances[src] != 10**8 and distances[src] + wt < distances[dst]:\n",
    "                distances[dst] = distances[src] + wt\n",
    "    \n",
    "    # Run the Vth iteration, if there is a change here it means we have negative weight cycle\n",
    "    for src, dst, wt in edges:\n",
    "        if distances[src] != 10**8 and distances[src] + wt < distances[dst]:\n",
    "            return {-1}\n",
    "    \n",
    "    return distances "
   ]
  },
  {
   "cell_type": "code",
   "execution_count": null,
   "metadata": {},
   "outputs": [],
   "source": []
  }
 ],
 "metadata": {
  "kernelspec": {
   "display_name": "Python 3",
   "language": "python",
   "name": "python3"
  },
  "language_info": {
   "codemirror_mode": {
    "name": "ipython",
    "version": 3
   },
   "file_extension": ".py",
   "mimetype": "text/x-python",
   "name": "python",
   "nbconvert_exporter": "python",
   "pygments_lexer": "ipython3",
   "version": "3.12.9"
  }
 },
 "nbformat": 4,
 "nbformat_minor": 2
}
