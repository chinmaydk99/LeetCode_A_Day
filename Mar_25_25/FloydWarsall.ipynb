{
 "cells": [
  {
   "cell_type": "code",
   "execution_count": 1,
   "metadata": {},
   "outputs": [],
   "source": [
    "def shortest_distance(matrix):\n",
    "    # Shortest distance from every node to every other node\n",
    "    # We need to see minimum distance via each node (via goes from 0 - number of nodes)\n",
    "    \n",
    "    n = len(matrix) # Number of nodes\n",
    "    \n",
    "    for via in range(n):\n",
    "        for i in range(n):\n",
    "            for j in range(n):\n",
    "                if matrix[i][via] == -1 or matrix[via][j] == -1:\n",
    "                    continue\n",
    "                \n",
    "                new_dist = matrix[i][via] + matrix[via][j]\n",
    "                \n",
    "                if matrix[i][j] == -1 or matrix[i][j] > new_dist:\n",
    "                    matrix[i][j] = new_dist\n",
    "                    \n",
    "    return matrix"
   ]
  },
  {
   "cell_type": "code",
   "execution_count": null,
   "metadata": {},
   "outputs": [],
   "source": []
  }
 ],
 "metadata": {
  "kernelspec": {
   "display_name": "Python 3",
   "language": "python",
   "name": "python3"
  },
  "language_info": {
   "codemirror_mode": {
    "name": "ipython",
    "version": 3
   },
   "file_extension": ".py",
   "mimetype": "text/x-python",
   "name": "python",
   "nbconvert_exporter": "python",
   "pygments_lexer": "ipython3",
   "version": "3.12.9"
  }
 },
 "nbformat": 4,
 "nbformat_minor": 2
}
