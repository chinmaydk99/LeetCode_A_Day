{
 "cells": [
  {
   "cell_type": "code",
   "execution_count": 1,
   "metadata": {},
   "outputs": [],
   "source": [
    "class ListNode:\n",
    "    def __init__(self, val):\n",
    "        self.val = val\n",
    "        self.next = None"
   ]
  },
  {
   "cell_type": "code",
   "execution_count": 2,
   "metadata": {},
   "outputs": [
    {
     "ename": "NameError",
     "evalue": "name 'Optional' is not defined",
     "output_type": "error",
     "traceback": [
      "\u001b[31m---------------------------------------------------------------------------\u001b[39m",
      "\u001b[31mNameError\u001b[39m                                 Traceback (most recent call last)",
      "\u001b[36mCell\u001b[39m\u001b[36m \u001b[39m\u001b[32mIn[2]\u001b[39m\u001b[32m, line 1\u001b[39m\n\u001b[32m----> \u001b[39m\u001b[32m1\u001b[39m \u001b[38;5;28;01mdef\u001b[39;00m\u001b[38;5;250m \u001b[39m\u001b[34maddTwoNumbers\u001b[39m(\u001b[38;5;28mself\u001b[39m, l1: \u001b[43mOptional\u001b[49m[ListNode], l2: Optional[ListNode]) -> Optional[ListNode]:\n\u001b[32m      2\u001b[39m     \u001b[38;5;66;03m# Cases to consider - unequal lengths, carry\u001b[39;00m\n\u001b[32m      3\u001b[39m     carry, res = \u001b[32m0\u001b[39m, \u001b[32m0\u001b[39m\n\u001b[32m      4\u001b[39m     curr1, curr2 = l1, l2\n",
      "\u001b[31mNameError\u001b[39m: name 'Optional' is not defined"
     ]
    }
   ],
   "source": [
    "def addTwoNumbers(self, l1: Optional[ListNode], l2: Optional[ListNode]) -> Optional[ListNode]:\n",
    "    # Cases to consider - unequal lengths, carry\n",
    "    carry, res = 0, 0\n",
    "    curr1, curr2 = l1, l2\n",
    "\n",
    "    if not curr1:\n",
    "        return curr2\n",
    "    \n",
    "    if not curr2:\n",
    "        return curr1\n",
    "\n",
    "    dummy = ListNode(-1)\n",
    "    curr = dummy\n",
    "\n",
    "    while curr1 or curr2:\n",
    "        ele1 = curr1.val if curr1 else 0\n",
    "        ele2 = curr2.val if curr2 else 0\n",
    "        \n",
    "        res = ele1 + ele2 + carry\n",
    "        carry = res // 10\n",
    "        res = res % 10\n",
    "\n",
    "        curr.next = ListNode(res)\n",
    "        curr = curr.next\n",
    "        \n",
    "        curr1 = curr1.next if curr1 else None\n",
    "        curr2 = curr2.next if curr2 else None\n",
    "    \n",
    "    if carry:\n",
    "        curr.next = ListNode(carry)\n",
    "        curr = curr.next\n",
    "\n",
    "    \n",
    "    return dummy.next"
   ]
  },
  {
   "cell_type": "code",
   "execution_count": null,
   "metadata": {},
   "outputs": [],
   "source": []
  }
 ],
 "metadata": {
  "kernelspec": {
   "display_name": "Python 3",
   "language": "python",
   "name": "python3"
  },
  "language_info": {
   "codemirror_mode": {
    "name": "ipython",
    "version": 3
   },
   "file_extension": ".py",
   "mimetype": "text/x-python",
   "name": "python",
   "nbconvert_exporter": "python",
   "pygments_lexer": "ipython3",
   "version": "3.12.9"
  }
 },
 "nbformat": 4,
 "nbformat_minor": 2
}
