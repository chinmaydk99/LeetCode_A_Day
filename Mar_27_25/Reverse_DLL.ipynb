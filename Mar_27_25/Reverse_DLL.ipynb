{
 "cells": [
  {
   "cell_type": "markdown",
   "metadata": {},
   "source": [
    "- Naive solution would be by using a stack, this will however be a double pass solution with 2 passes\n",
    "-  Intuition is that for each node, next and prev must be reversed\n",
    "- At the head when head reaches none, prev points at the second last node. But since the links have been reversed to return the next node, we return prev.prev"
   ]
  },
  {
   "cell_type": "code",
   "execution_count": 2,
   "metadata": {},
   "outputs": [],
   "source": [
    "def reverseDLL(head):\n",
    "    if not head:\n",
    "        return None\n",
    "    \n",
    "    curr, prev = head, None\n",
    "    \n",
    "    while curr:\n",
    "        prev = curr.prev\n",
    "        curr.prev = curr.next\n",
    "        curr.next = prev\n",
    "        curr = curr.prev\n",
    "    \n",
    "    return prev.prev"
   ]
  },
  {
   "cell_type": "code",
   "execution_count": null,
   "metadata": {},
   "outputs": [],
   "source": []
  }
 ],
 "metadata": {
  "kernelspec": {
   "display_name": "Python 3",
   "language": "python",
   "name": "python3"
  },
  "language_info": {
   "codemirror_mode": {
    "name": "ipython",
    "version": 3
   },
   "file_extension": ".py",
   "mimetype": "text/x-python",
   "name": "python",
   "nbconvert_exporter": "python",
   "pygments_lexer": "ipython3",
   "version": "3.12.9"
  }
 },
 "nbformat": 4,
 "nbformat_minor": 2
}
