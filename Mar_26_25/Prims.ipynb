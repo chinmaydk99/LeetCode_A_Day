{
 "cells": [
  {
   "cell_type": "code",
   "execution_count": null,
   "metadata": {},
   "outputs": [],
   "source": [
    "from heapq import *\n",
    "def Prims(V, adj):\n",
    "    min_heap  = []\n",
    "    heapify(min_heap)\n",
    "    res = []\n",
    "    final_wt = 0\n",
    "\n",
    "    visited = [False for _ in range(V)]\n",
    "    \n",
    "    visited[0] = True\n",
    "\n",
    "    heappush(min_heap, (0, 0, -1)) # weight, node, parent\n",
    "\n",
    "    while min_heap:\n",
    "        wt, node, parent = heappop(min_heap)\n",
    "\n",
    "        if visited[node]:\n",
    "            continue\n",
    "        \n",
    "        visited[node] = True\n",
    "\n",
    "        if parent != -1:\n",
    "            res.append((parent, node))\n",
    "            final_wt += wt\n",
    "\n",
    "        for neighbor, weight in adj[node]:\n",
    "            if not visited[neighbor]:\n",
    "                heappush(min_heap, (weight, neighbor, node))\n",
    "        \n",
    "    return final_wt\n"
   ]
  }
 ],
 "metadata": {
  "language_info": {
   "name": "python"
  }
 },
 "nbformat": 4,
 "nbformat_minor": 2
}
